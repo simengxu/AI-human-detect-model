{
 "cells": [
  {
   "cell_type": "code",
   "execution_count": 1,
   "metadata": {
    "_cell_guid": "b1076dfc-b9ad-4769-8c92-a6c4dae69d19",
    "_uuid": "8f2839f25d086af736a60e9eeb907d3b93b6e0e5",
    "tags": []
   },
   "outputs": [],
   "source": [
    "import pandas as pd"
   ]
  },
  {
   "cell_type": "code",
   "execution_count": 4,
   "metadata": {
    "tags": []
   },
   "outputs": [],
   "source": [
    "train_dataset = pd.read_csv('data/train_data.csv')[['text', 'label']]"
   ]
  },
  {
   "cell_type": "code",
   "execution_count": 5,
   "metadata": {
    "tags": []
   },
   "outputs": [
    {
     "data": {
      "text/html": [
       "<div>\n",
       "<style scoped>\n",
       "    .dataframe tbody tr th:only-of-type {\n",
       "        vertical-align: middle;\n",
       "    }\n",
       "\n",
       "    .dataframe tbody tr th {\n",
       "        vertical-align: top;\n",
       "    }\n",
       "\n",
       "    .dataframe thead th {\n",
       "        text-align: right;\n",
       "    }\n",
       "</style>\n",
       "<table border=\"1\" class=\"dataframe\">\n",
       "  <thead>\n",
       "    <tr style=\"text-align: right;\">\n",
       "      <th></th>\n",
       "      <th>text</th>\n",
       "      <th>label</th>\n",
       "    </tr>\n",
       "  </thead>\n",
       "  <tbody>\n",
       "    <tr>\n",
       "      <th>0</th>\n",
       "      <td>Title: The Perks of Limiting Car Usage: A Shif...</td>\n",
       "      <td>1</td>\n",
       "    </tr>\n",
       "    <tr>\n",
       "      <th>1</th>\n",
       "      <td>I should agree because it can make your grades...</td>\n",
       "      <td>0</td>\n",
       "    </tr>\n",
       "    <tr>\n",
       "      <th>2</th>\n",
       "      <td>Every school has a summer break, during summer...</td>\n",
       "      <td>0</td>\n",
       "    </tr>\n",
       "    <tr>\n",
       "      <th>3</th>\n",
       "      <td>Dear Principal,  The students should be requir...</td>\n",
       "      <td>0</td>\n",
       "    </tr>\n",
       "    <tr>\n",
       "      <th>4</th>\n",
       "      <td>Dear Principal,  I think everyone should donat...</td>\n",
       "      <td>0</td>\n",
       "    </tr>\n",
       "    <tr>\n",
       "      <th>...</th>\n",
       "      <td>...</td>\n",
       "      <td>...</td>\n",
       "    </tr>\n",
       "    <tr>\n",
       "      <th>34995</th>\n",
       "      <td>In the article \" Making Mona Lisa Smile,\" the ...</td>\n",
       "      <td>0</td>\n",
       "    </tr>\n",
       "    <tr>\n",
       "      <th>34996</th>\n",
       "      <td>Hello,I am Luke Bomberger and here to convince...</td>\n",
       "      <td>0</td>\n",
       "    </tr>\n",
       "    <tr>\n",
       "      <th>34997</th>\n",
       "      <td>Not a single spacecraft has touched down on Ve...</td>\n",
       "      <td>0</td>\n",
       "    </tr>\n",
       "    <tr>\n",
       "      <th>34998</th>\n",
       "      <td>When doing projects over the summer usually te...</td>\n",
       "      <td>0</td>\n",
       "    </tr>\n",
       "    <tr>\n",
       "      <th>34999</th>\n",
       "      <td>Many of you people who believe in the paranorm...</td>\n",
       "      <td>0</td>\n",
       "    </tr>\n",
       "  </tbody>\n",
       "</table>\n",
       "<p>35000 rows × 2 columns</p>\n",
       "</div>"
      ],
      "text/plain": [
       "                                                    text  label\n",
       "0      Title: The Perks of Limiting Car Usage: A Shif...      1\n",
       "1      I should agree because it can make your grades...      0\n",
       "2      Every school has a summer break, during summer...      0\n",
       "3      Dear Principal,  The students should be requir...      0\n",
       "4      Dear Principal,  I think everyone should donat...      0\n",
       "...                                                  ...    ...\n",
       "34995  In the article \" Making Mona Lisa Smile,\" the ...      0\n",
       "34996  Hello,I am Luke Bomberger and here to convince...      0\n",
       "34997  Not a single spacecraft has touched down on Ve...      0\n",
       "34998  When doing projects over the summer usually te...      0\n",
       "34999  Many of you people who believe in the paranorm...      0\n",
       "\n",
       "[35000 rows x 2 columns]"
      ]
     },
     "execution_count": 5,
     "metadata": {},
     "output_type": "execute_result"
    }
   ],
   "source": [
    "# split the dataset\n",
    "train_dataset.text = train_dataset.text.str.replace('\\n', ' ')\n",
    "class_0 = train_dataset[train_dataset['label'] == 0]\n",
    "class_1 = train_dataset[train_dataset['label'] == 1]\n",
    "\n",
    "# count\n",
    "num_class_0 = len(class_0)\n",
    "num_class_1 = len(class_1)\n",
    "\n",
    "min_num = min(num_class_0, num_class_1)\n",
    "\n",
    "# perform random sampling on bigger class\n",
    "if num_class_0 > min_num:\n",
    "    class_0 = class_0.sample(n=min_num, random_state=42)  # random_state\n",
    "elif num_class_1 > min_num:\n",
    "    class_1 = class_1.sample(n=min_num, random_state=42)\n",
    "\n",
    "balanced_train_dataset = pd.concat([class_0, class_1])\n",
    "\n",
    "# random shuffle\n",
    "balanced_train_dataset = balanced_train_dataset.sample(frac=1, random_state=42).reset_index(drop=True)\n",
    "balanced_train_dataset"
   ]
  },
  {
   "cell_type": "code",
   "execution_count": 6,
   "metadata": {
    "tags": []
   },
   "outputs": [
    {
     "data": {
      "image/png": "[encoded data removed]",
      "text/plain": [
       "<Figure size 640x480 with 1 Axes>"
      ]
     },
     "metadata": {},
     "output_type": "display_data"
    }
   ],
   "source": [
    "import matplotlib.pyplot as plt\n",
    "import re\n",
    "\n",
    "# 分词并计数单词个数\n",
    "word_counts = [len(re.findall(r'\\w+', text)) for text in balanced_train_dataset.text]\n",
    "\n",
    "# 绘制直方图\n",
    "plt.hist(word_counts, bins=50, edgecolor='black')\n",
    "plt.title('Word Count Distribution')\n",
    "plt.xlabel('Number of Words')\n",
    "plt.ylabel('Frequency')\n",
    "plt.show()"
   ]
  },
  {
   "cell_type": "code",
   "execution_count": null,
   "metadata": {
    "execution": {
     "iopub.execute_input": "2023-12-08T20:33:26.043715Z",
     "iopub.status.busy": "2023-12-08T20:33:26.042867Z",
     "iopub.status.idle": "2023-12-08T20:33:26.048779Z",
     "shell.execute_reply": "2023-12-08T20:33:26.047719Z",
     "shell.execute_reply.started": "2023-12-08T20:33:26.043670Z"
    }
   },
   "outputs": [],
   "source": [
    "#train_dataset = concat([train_dataset.query('label==0').sample(48475), train_dataset.query('label==1')])"
   ]
  },
  {
   "cell_type": "code",
   "execution_count": 7,
   "metadata": {
    "tags": []
   },
   "outputs": [
    {
     "data": {
      "text/plain": [
       "1    17500\n",
       "0    17500\n",
       "Name: label, dtype: int64"
      ]
     },
     "execution_count": 7,
     "metadata": {},
     "output_type": "execute_result"
    }
   ],
   "source": [
    "balanced_train_dataset.label.value_counts()"
   ]
  },
  {
   "cell_type": "code",
   "execution_count": 8,
   "metadata": {
    "tags": []
   },
   "outputs": [],
   "source": [
    "X_train = balanced_train_dataset.text\n",
    "y_train = balanced_train_dataset.label"
   ]
  },
  {
   "cell_type": "code",
   "execution_count": null,
   "metadata": {
    "execution": {
     "iopub.execute_input": "2023-12-08T20:33:26.084704Z",
     "iopub.status.busy": "2023-12-08T20:33:26.084140Z",
     "iopub.status.idle": "2023-12-08T20:33:26.095337Z",
     "shell.execute_reply": "2023-12-08T20:33:26.093856Z",
     "shell.execute_reply.started": "2023-12-08T20:33:26.084672Z"
    }
   },
   "outputs": [],
   "source": [
    "# from sklearn.model_selection import train_test_split\n",
    "\n",
    "# X_train, X_test, y_train, y_test = train_test_split(X, y, test_size=0.2, random_state=42)"
   ]
  },
  {
   "cell_type": "code",
   "execution_count": 12,
   "metadata": {
    "tags": []
   },
   "outputs": [
    {
     "name": "stdout",
     "output_type": "stream",
     "text": [
      "\u001b[33mWARNING: Location '../input/daigt-misc/' is ignored: it is either a non-existing path or lacks a specific scheme.\u001b[0m\u001b[33m\n",
      "\u001b[0m\u001b[31mERROR: Could not find a version that satisfies the requirement language-tool-python (from versions: none)\u001b[0m\u001b[31m\n",
      "\u001b[0m\u001b[31mERROR: No matching distribution found for language-tool-python\u001b[0m\u001b[31m\n",
      "\u001b[0mmkdir: /root: Read-only file system\n",
      "cp: /kaggle/input/daigt-misc/lang57/LanguageTool-5.7: No such file or directory\n"
     ]
    }
   ],
   "source": [
    "!pip install -q language-tool-python --no-index --find-links ../input/daigt-misc/\n",
    "!pip install -q regex\n",
    "!mkdir -p /root/.cache/language_tool_python/\n",
    "!cp -r /kaggle/input/daigt-misc/lang57/LanguageTool-5.7 /root/.cache/language_tool_python/LanguageTool-5.7"
   ]
  },
  {
   "cell_type": "code",
   "execution_count": 9,
   "metadata": {},
   "outputs": [
    {
     "name": "stdout",
     "output_type": "stream",
     "text": [
      "Requirement already satisfied: regex in /Users/johnsonl/miniconda3/lib/python3.11/site-packages (2023.10.3)\n",
      "Requirement already satisfied: scikit-learn in /Users/johnsonl/miniconda3/lib/python3.11/site-packages (1.3.2)\n",
      "Requirement already satisfied: numpy<2.0,>=1.17.3 in /Users/johnsonl/miniconda3/lib/python3.11/site-packages (from scikit-learn) (1.26.2)\n",
      "Requirement already satisfied: scipy>=1.5.0 in /Users/johnsonl/miniconda3/lib/python3.11/site-packages (from scikit-learn) (1.11.4)\n",
      "Requirement already satisfied: joblib>=1.1.1 in /Users/johnsonl/miniconda3/lib/python3.11/site-packages (from scikit-learn) (1.3.2)\n",
      "Requirement already satisfied: threadpoolctl>=2.0.0 in /Users/johnsonl/miniconda3/lib/python3.11/site-packages (from scikit-learn) (3.2.0)\n"
     ]
    }
   ],
   "source": [
    "!pip3 install -U regex\n",
    "!pip3 install -U scikit-learn"
   ]
  },
  {
   "cell_type": "code",
   "execution_count": 1,
   "metadata": {
    "tags": []
   },
   "outputs": [
    {
     "ename": "ModuleNotFoundError",
     "evalue": "No module named 'sklearn'",
     "output_type": "error",
     "traceback": [
      "\u001b[0;31m---------------------------------------------------------------------------\u001b[0m",
      "\u001b[0;31mModuleNotFoundError\u001b[0m                       Traceback (most recent call last)",
      "Cell \u001b[0;32mIn [1], line 3\u001b[0m\n\u001b[1;32m      1\u001b[0m \u001b[38;5;28;01mimport\u001b[39;00m \u001b[38;5;21;01mnumpy\u001b[39;00m \u001b[38;5;28;01mas\u001b[39;00m \u001b[38;5;21;01mnp\u001b[39;00m\n\u001b[1;32m      2\u001b[0m \u001b[38;5;28;01mimport\u001b[39;00m \u001b[38;5;21;01mpandas\u001b[39;00m \u001b[38;5;28;01mas\u001b[39;00m \u001b[38;5;21;01mpd\u001b[39;00m\n\u001b[0;32m----> 3\u001b[0m \u001b[38;5;28;01mfrom\u001b[39;00m \u001b[38;5;21;01msklearn\u001b[39;00m\u001b[38;5;21;01m.\u001b[39;00m\u001b[38;5;21;01mlinear_model\u001b[39;00m \u001b[38;5;28;01mimport\u001b[39;00m LogisticRegression, SGDClassifier\n\u001b[1;32m      4\u001b[0m \u001b[38;5;28;01mfrom\u001b[39;00m \u001b[38;5;21;01msklearn\u001b[39;00m\u001b[38;5;21;01m.\u001b[39;00m\u001b[38;5;21;01mfeature_extraction\u001b[39;00m\u001b[38;5;21;01m.\u001b[39;00m\u001b[38;5;21;01mtext\u001b[39;00m \u001b[38;5;28;01mimport\u001b[39;00m TfidfVectorizer\n\u001b[1;32m      5\u001b[0m \u001b[38;5;28;01mfrom\u001b[39;00m \u001b[38;5;21;01msklearn\u001b[39;00m\u001b[38;5;21;01m.\u001b[39;00m\u001b[38;5;21;01mensemble\u001b[39;00m \u001b[38;5;28;01mimport\u001b[39;00m VotingClassifier\n",
      "\u001b[0;31mModuleNotFoundError\u001b[0m: No module named 'sklearn'"
     ]
    }
   ],
   "source": [
    "import numpy as np\n",
    "import pandas as pd\n",
    "from sklearn.linear_model import LogisticRegression, SGDClassifier\n",
    "from sklearn.feature_extraction.text import TfidfVectorizer\n",
    "from sklearn.ensemble import VotingClassifier\n",
    "from sklearn.metrics import make_scorer, accuracy_score\n",
    "import xgboost as xgb\n",
    "from xgboost import XGBClassifier\n",
    "from sklearn.neighbors import KNeighborsClassifier\n",
    "from concurrent.futures import ProcessPoolExecutor\n",
    "from sklearn.naive_bayes import MultinomialNB\n",
    "seed = 66"
   ]
  },
  {
   "cell_type": "code",
   "execution_count": null,
   "metadata": {},
   "outputs": [],
   "source": [
    "import language_tool_python\n",
    "import regex as re"
   ]
  },
  {
   "cell_type": "code",
   "execution_count": 20,
   "metadata": {
    "tags": []
   },
   "outputs": [
    {
     "ename": "NameError",
     "evalue": "name 'language_tool_python' is not defined",
     "output_type": "error",
     "traceback": [
      "\u001b[0;31m---------------------------------------------------------------------------\u001b[0m",
      "\u001b[0;31mNameError\u001b[0m                                 Traceback (most recent call last)",
      "Cell \u001b[0;32mIn [20], line 1\u001b[0m\n\u001b[0;32m----> 1\u001b[0m tool \u001b[38;5;241m=\u001b[39m language_tool_python\u001b[38;5;241m.\u001b[39mLanguageTool(\u001b[38;5;124m'\u001b[39m\u001b[38;5;124men-US\u001b[39m\u001b[38;5;124m'\u001b[39m)\n\u001b[1;32m      2\u001b[0m \u001b[38;5;28;01mdef\u001b[39;00m \u001b[38;5;21mcorrect_sentence\u001b[39m(sentence):\n\u001b[1;32m      3\u001b[0m     \u001b[38;5;28;01mreturn\u001b[39;00m tool\u001b[38;5;241m.\u001b[39mcorrect(sentence)\n",
      "\u001b[0;31mNameError\u001b[0m: name 'language_tool_python' is not defined"
     ]
    }
   ],
   "source": [
    "tool = language_tool_python.LanguageTool('en-US')\n",
    "def correct_sentence(sentence):\n",
    "    return tool.correct(sentence)\n",
    "def correct_df(df):\n",
    "    with ProcessPoolExecutor() as executor:\n",
    "        df['text'] = list(executor.map(correct_sentence, df['text']))"
   ]
  },
  {
   "cell_type": "code",
   "execution_count": 21,
   "metadata": {
    "tags": []
   },
   "outputs": [],
   "source": [
    "train = balanced_train_dataset\n",
    "train['text'] = train['text'].str.replace('\\n', '')\n",
    "# df = pd.concat([train['text'], test['text']], axis=0)\n",
    "df = train['text']"
   ]
  },
  {
   "cell_type": "code",
   "execution_count": 22,
   "metadata": {
    "tags": []
   },
   "outputs": [
    {
     "ename": "NameError",
     "evalue": "name 'TfidfVectorizer' is not defined",
     "output_type": "error",
     "traceback": [
      "\u001b[0;31m---------------------------------------------------------------------------\u001b[0m",
      "\u001b[0;31mNameError\u001b[0m                                 Traceback (most recent call last)",
      "Cell \u001b[0;32mIn [22], line 1\u001b[0m\n\u001b[0;32m----> 1\u001b[0m vectorizer \u001b[38;5;241m=\u001b[39m TfidfVectorizer(ngram_range\u001b[38;5;241m=\u001b[39m(\u001b[38;5;241m3\u001b[39m, \u001b[38;5;241m5\u001b[39m),tokenizer\u001b[38;5;241m=\u001b[39m\u001b[38;5;28;01mlambda\u001b[39;00m x: re\u001b[38;5;241m.\u001b[39mfindall(\u001b[38;5;124mr\u001b[39m\u001b[38;5;124m'\u001b[39m\u001b[38;5;124m[^\u001b[39m\u001b[38;5;124m\\\u001b[39m\u001b[38;5;124mW]+\u001b[39m\u001b[38;5;124m'\u001b[39m, x), token_pattern\u001b[38;5;241m=\u001b[39m\u001b[38;5;28;01mNone\u001b[39;00m, strip_accents\u001b[38;5;241m=\u001b[39m\u001b[38;5;124m'\u001b[39m\u001b[38;5;124municode\u001b[39m\u001b[38;5;124m'\u001b[39m)\n\u001b[1;32m      2\u001b[0m vectorizer \u001b[38;5;241m=\u001b[39m vectorizer\u001b[38;5;241m.\u001b[39mfit(train[\u001b[38;5;124m'\u001b[39m\u001b[38;5;124mtext\u001b[39m\u001b[38;5;124m'\u001b[39m])\n\u001b[1;32m      3\u001b[0m X \u001b[38;5;241m=\u001b[39m vectorizer\u001b[38;5;241m.\u001b[39mtransform(df)\n",
      "\u001b[0;31mNameError\u001b[0m: name 'TfidfVectorizer' is not defined"
     ]
    }
   ],
   "source": [
    "vectorizer = TfidfVectorizer(ngram_range=(3, 5),tokenizer=lambda x: re.findall(r'[^\\W]+', x), token_pattern=None, strip_accents='unicode')\n",
    "vectorizer = vectorizer.fit(train['text'])\n",
    "X = vectorizer.transform(df)"
   ]
  },
  {
   "cell_type": "code",
   "execution_count": null,
   "metadata": {
    "execution": {
     "iopub.execute_input": "2023-12-08T20:52:14.120100Z",
     "iopub.status.busy": "2023-12-08T20:52:14.119424Z",
     "iopub.status.idle": "2023-12-08T20:52:14.132075Z",
     "shell.execute_reply": "2023-12-08T20:52:14.131088Z",
     "shell.execute_reply.started": "2023-12-08T20:52:14.120019Z"
    }
   },
   "outputs": [],
   "source": [
    "lr=LogisticRegression(verbose = 1)\n",
    "clf = MultinomialNB(alpha=0.02)\n",
    "sgd_model = SGDClassifier(max_iter=8000, tol=1e-3, loss=\"modified_huber\")\n",
    "sgd_model2 = SGDClassifier(max_iter=12000, tol=5e-4, loss=\"modified_huber\", class_weight=\"balanced\")\n",
    "sgd_model3 = SGDClassifier(max_iter=15000, tol=3e-4, loss=\"modified_huber\", early_stopping=True)"
   ]
  },
  {
   "cell_type": "code",
   "execution_count": null,
   "metadata": {
    "execution": {
     "iopub.execute_input": "2023-12-08T20:52:14.134098Z",
     "iopub.status.busy": "2023-12-08T20:52:14.133661Z",
     "iopub.status.idle": "2023-12-08T21:10:42.843697Z",
     "shell.execute_reply": "2023-12-08T21:10:42.842439Z",
     "shell.execute_reply.started": "2023-12-08T20:52:14.134067Z"
    }
   },
   "outputs": [],
   "source": [
    "ensemble = VotingClassifier(\n",
    "    estimators=[('lr', lr), ('mnb', clf), ('sgd', sgd_model), ('sgd2', sgd_model2), ('sgd3', sgd_model3)],\n",
    "    weights=[0.20, 0.20, 0.20, 0.20, 0.20],\n",
    "    voting='soft',\n",
    "    verbose=1\n",
    ")\n",
    "ensemble.fit(X[:train.shape[0]], train.label)"
   ]
  },
  {
   "cell_type": "code",
   "execution_count": null,
   "metadata": {
    "execution": {
     "iopub.execute_input": "2023-12-09T00:08:45.163468Z",
     "iopub.status.busy": "2023-12-09T00:08:45.163097Z",
     "iopub.status.idle": "2023-12-09T00:08:45.715379Z",
     "shell.execute_reply": "2023-12-09T00:08:45.714360Z",
     "shell.execute_reply.started": "2023-12-09T00:08:45.163438Z"
    }
   },
   "outputs": [],
   "source": [
    "test1 = pd.read_csv('/kaggle/input/567testdata/Mistral7B_CME_v7_15_percent_corruption.csv')[['text', 'generated']].rename(columns={'generated' : 'label'})\n",
    "test2 = class_0_test\n",
    "\n",
    "test_dataset = pd.concat([test1, test2])\n",
    "# correct_df(test_dataset)\n",
    "\n",
    "# split the dataset\n",
    "test_dataset.text = test_dataset.text.str.replace('\\n', ' ')\n",
    "class_0 = test_dataset[test_dataset['label'] == 0]\n",
    "class_1 = test_dataset[test_dataset['label'] == 1]\n",
    "\n",
    "# 确定两个类别的样本数量\n",
    "num_class_0 = len(class_0)\n",
    "num_class_1 = len(class_1)\n",
    "\n",
    "# 计算较小的样本数量\n",
    "min_num = min(num_class_0, num_class_1)\n",
    "\n",
    "# 对样本较多的类别进行随机抽样\n",
    "if num_class_0 > min_num:\n",
    "    class_0 = class_0.sample(n=min_num, random_state=42)  # random_state 确保结果的可复现性\n",
    "elif num_class_1 > min_num:\n",
    "    class_1 = class_1.sample(n=min_num, random_state=42)\n",
    "\n",
    "# 合并数据集\n",
    "balanced_test_dataset = pd.concat([class_0, class_1])\n",
    "\n",
    "# 如果需要，可以打乱数据集的顺序\n",
    "balanced_test_dataset = balanced_test_dataset.sample(frac=1, random_state=42).reset_index(drop=True)\n",
    "balanced_test_dataset"
   ]
  },
  {
   "cell_type": "code",
   "execution_count": null,
   "metadata": {
    "execution": {
     "iopub.execute_input": "2023-12-08T21:23:06.481220Z",
     "iopub.status.busy": "2023-12-08T21:23:06.480658Z",
     "iopub.status.idle": "2023-12-08T21:23:48.897994Z",
     "shell.execute_reply": "2023-12-08T21:23:48.896630Z",
     "shell.execute_reply.started": "2023-12-08T21:23:06.481181Z"
    }
   },
   "outputs": [],
   "source": [
    "X_test = vectorizer.transform(balanced_test_dataset['text'])\n",
    "y_test = balanced_test_dataset['label']"
   ]
  },
  {
   "cell_type": "code",
   "execution_count": null,
   "metadata": {
    "execution": {
     "iopub.execute_input": "2023-12-08T21:24:27.858770Z",
     "iopub.status.busy": "2023-12-08T21:24:27.858275Z",
     "iopub.status.idle": "2023-12-08T21:24:30.840203Z",
     "shell.execute_reply": "2023-12-08T21:24:30.838903Z",
     "shell.execute_reply.started": "2023-12-08T21:24:27.858727Z"
    }
   },
   "outputs": [],
   "source": [
    "y_pred_prob = ensemble.predict_proba(X_test)[:,1]\n",
    "y_pred = ensemble.predict(X_test)"
   ]
  },
  {
   "cell_type": "code",
   "execution_count": null,
   "metadata": {
    "execution": {
     "iopub.execute_input": "2023-12-08T21:24:40.606637Z",
     "iopub.status.busy": "2023-12-08T21:24:40.606166Z",
     "iopub.status.idle": "2023-12-08T21:24:40.633887Z",
     "shell.execute_reply": "2023-12-08T21:24:40.632521Z",
     "shell.execute_reply.started": "2023-12-08T21:24:40.606601Z"
    }
   },
   "outputs": [],
   "source": [
    "# from sklearn.metrics import roc_auc_score, accuracy_score\n",
    "# auc = roc_auc_score(test[''], y_pred_prob)\n",
    "# print(\"AUC:\", auc)\n",
    "\n",
    "from sklearn.metrics import f1_score, accuracy_score, roc_auc_score, roc_curve\n",
    "# Calculate F1 score\n",
    "f1 = f1_score(y_test, y_pred)\n",
    "accuracy = accuracy_score(y_test, y_pred)\n",
    "roc_auc = roc_auc_score(y_test, y_pred_prob)\n",
    "print(\"F1 Score:\", f1)\n",
    "print(\"Accuracy:\", accuracy)\n",
    "print(\"AUCROC: \", roc_auc)"
   ]
  },
  {
   "cell_type": "code",
   "execution_count": null,
   "metadata": {
    "execution": {
     "iopub.execute_input": "2023-12-08T21:24:44.735042Z",
     "iopub.status.busy": "2023-12-08T21:24:44.734559Z",
     "iopub.status.idle": "2023-12-08T21:24:45.102998Z",
     "shell.execute_reply": "2023-12-08T21:24:45.101759Z",
     "shell.execute_reply.started": "2023-12-08T21:24:44.735005Z"
    }
   },
   "outputs": [],
   "source": [
    "fpr, tpr, thresholds = roc_curve(y_test, y_pred_prob)\n",
    "\n",
    "plt.figure(figsize=(8, 8))\n",
    "plt.plot(fpr, label=f'AUC-ROC = {roc_auc:.2f}')\n",
    "plt.plot(tpr)\n",
    "# plt.plot([0, 1], [0, 1], color='navy', lw=2, linestyle='--')\n",
    "plt.xlabel('False Positive Rate')\n",
    "plt.ylabel('True Positive Rate')\n",
    "plt.title('Receiver Operating Characteristic (ROC) Curve')\n",
    "plt.legend(loc=\"lower right\")\n",
    "plt.show()"
   ]
  },
  {
   "cell_type": "code",
   "execution_count": null,
   "metadata": {
    "execution": {
     "iopub.execute_input": "2023-12-08T21:24:52.753919Z",
     "iopub.status.busy": "2023-12-08T21:24:52.753461Z",
     "iopub.status.idle": "2023-12-08T21:24:53.071933Z",
     "shell.execute_reply": "2023-12-08T21:24:53.070941Z",
     "shell.execute_reply.started": "2023-12-08T21:24:52.753885Z"
    }
   },
   "outputs": [],
   "source": [
    "false_positives = sum((y_test[i] == 0) and (y_pred[i] == 1) for i in range(len(y_test)))\n",
    "true_positives = sum((y_test[i] == 1) and (y_pred[i] == 1) for i in range(len(y_test)))\n",
    "false_negatives = sum((y_test[i] == 1) and (y_pred[i] == 0) for i in range(len(y_test)))\n",
    "true_negatives = sum((y_test[i] == 0) and (y_pred[i] == 0) for i in range(len(y_test)))\n",
    "print(false_positives)\n",
    "print(true_positives)\n",
    "print(false_negatives)\n",
    "print(true_negatives)\n",
    "print(len(y_test))"
   ]
  },
  {
   "cell_type": "code",
   "execution_count": null,
   "metadata": {},
   "outputs": [],
   "source": []
  }
 ],
 "metadata": {
  "kaggle": {
   "accelerator": "none",
   "dataSources": [
    {
     "databundleVersionId": 6888007,
     "sourceId": 61542,
     "sourceType": "competition"
    },
    {
     "datasetId": 3936750,
     "sourceId": 6847931,
     "sourceType": "datasetVersion"
    },
    {
     "datasetId": 3945154,
     "sourceId": 6865136,
     "sourceType": "datasetVersion"
    },
    {
     "datasetId": 3946973,
     "sourceId": 6867914,
     "sourceType": "datasetVersion"
    },
    {
     "datasetId": 3937441,
     "sourceId": 6868189,
     "sourceType": "datasetVersion"
    },
    {
     "datasetId": 3955358,
     "sourceId": 6888403,
     "sourceType": "datasetVersion"
    },
    {
     "datasetId": 3942644,
     "sourceId": 6890527,
     "sourceType": "datasetVersion"
    },
    {
     "datasetId": 3973977,
     "sourceId": 6920799,
     "sourceType": "datasetVersion"
    },
    {
     "datasetId": 3961875,
     "sourceId": 6971638,
     "sourceType": "datasetVersion"
    },
    {
     "datasetId": 4005256,
     "sourceId": 6977472,
     "sourceType": "datasetVersion"
    },
    {
     "datasetId": 3937250,
     "sourceId": 7017419,
     "sourceType": "datasetVersion"
    },
    {
     "datasetId": 3944051,
     "sourceId": 7060310,
     "sourceType": "datasetVersion"
    },
    {
     "datasetId": 4123812,
     "sourceId": 7149898,
     "sourceType": "datasetVersion"
    },
    {
     "modelInstanceId": 1900,
     "sourceId": 2623,
     "sourceType": "modelInstanceVersion"
    }
   ],
   "dockerImageVersionId": 30559,
   "isGpuEnabled": false,
   "isInternetEnabled": false,
   "language": "python",
   "sourceType": "notebook"
  },
  "kernelspec": {
   "display_name": "Python 3 (ipykernel)",
   "language": "python",
   "name": "python3"
  },
  "language_info": {
   "codemirror_mode": {
    "name": "ipython",
    "version": 3
   },
   "file_extension": ".py",
   "mimetype": "text/x-python",
   "name": "python",
   "nbconvert_exporter": "python",
   "pygments_lexer": "ipython3",
   "version": "3.10.10"
  }
 },
 "nbformat": 4,
 "nbformat_minor": 4
}
